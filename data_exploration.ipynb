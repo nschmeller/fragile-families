{
 "cells": [
  {
   "cell_type": "code",
   "execution_count": 72,
   "metadata": {},
   "outputs": [],
   "source": [
    "# put all import statements here, don't forget to run this cell whenever you add new stuff\n",
    "import csv\n",
    "import numpy as np"
   ]
  },
  {
   "cell_type": "markdown",
   "metadata": {},
   "source": [
    "### How many non-responses (negative numbers) are there in the background.csv file?"
   ]
  },
  {
   "cell_type": "code",
   "execution_count": 16,
   "metadata": {},
   "outputs": [],
   "source": [
    "# read background.csv into numpy array (NOTE: this is computationally intensive)\n",
    "back_items = []\n",
    "with open('background.csv') as csvfile:\n",
    "    background_reader = csv.reader(csvfile)\n",
    "    i = 0\n",
    "    for item in background_reader:\n",
    "        back_items.append(item)\n",
    "background = np.array(back_items)"
   ]
  },
  {
   "cell_type": "code",
   "execution_count": null,
   "metadata": {},
   "outputs": [],
   "source": [
    "# print basic statistics about the entire data corpus\n",
    "print(\"Shape of the array: {0}\".format(background.shape))\n",
    "print(\"Number of elements: {0}\".format(background.shape[0]*background.shape[1]))\n",
    "\n",
    "# NOTE: this is computationally intensive\n",
    "num_non_responses = 0\n",
    "for (x,y), value in np.ndenumerate(background):\n",
    "    if type(value) is str:\n",
    "        if value is 'NA':\n",
    "            num_non_responses += 1\n",
    "        else:\n",
    "            continue\n",
    "    if int(float(value)) < 0:\n",
    "        num_non_responses += 1"
   ]
  },
  {
   "cell_type": "code",
   "execution_count": null,
   "metadata": {},
   "outputs": [],
   "source": [
    "print(num_non_responses)"
   ]
  },
  {
   "cell_type": "code",
   "execution_count": null,
   "metadata": {},
   "outputs": [],
   "source": []
  },
  {
   "cell_type": "code",
   "execution_count": null,
   "metadata": {},
   "outputs": [],
   "source": []
  }
 ],
 "metadata": {
  "kernelspec": {
   "display_name": "Python 3",
   "language": "python",
   "name": "python3"
  },
  "language_info": {
   "codemirror_mode": {
    "name": "ipython",
    "version": 3
   },
   "file_extension": ".py",
   "mimetype": "text/x-python",
   "name": "python",
   "nbconvert_exporter": "python",
   "pygments_lexer": "ipython3",
   "version": "3.6.5"
  }
 },
 "nbformat": 4,
 "nbformat_minor": 2
}
